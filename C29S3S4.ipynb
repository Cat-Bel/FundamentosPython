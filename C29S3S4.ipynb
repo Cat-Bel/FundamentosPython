{
  "nbformat": 4,
  "nbformat_minor": 0,
  "metadata": {
    "colab": {
      "provenance": []
    },
    "kernelspec": {
      "name": "python3",
      "display_name": "Python 3"
    },
    "language_info": {
      "name": "python"
    }
  },
  "cells": [
    {
      "cell_type": "markdown",
      "source": [
        "El programa pide al usuario los siguientes datos personales:\n",
        "\n",
        "* Nombre.\n",
        "* Edad.\n",
        "* Ingreso mensual.\n",
        "* Gasto mensual promedio.\n",
        "* Objetivo de ahorro (Monto).\n",
        "\n",
        "Con esta información, el programa realiza los cálculos para determinar:\n",
        "\n",
        "1. Ahorro mensual posible: Se calcula como ingreso mensual - gasto mensual.\n",
        "2. Tiempo necesario para alcanzar el objetivo: Se calcula como objetivo de ahorro / ahorro mensual.\n",
        "\n",
        "**Validaciones necesarias**\n",
        "\n",
        "1. Ningún dato puede quedar vacío.\n",
        "2. Los campos numéricos (edad, ingreso, gasto, y objetivo de ahorro) deben ser valores válidos y positivos.\n",
        "3. Se asegura que el gasto no supere el ingreso mensual; si esto ocurre, el programa muestra un mensaje indicando que no es posible ahorrar dinero.\n",
        "\n",
        "\n",
        "**Salida esperada**\n",
        "El programa muestra los datos del usuario y cuánto tiempo necesitaría para alcanzar su objetivo de ahorro (en meses y años). Si el usuario no puede ahorrar dinero (gasto ≥ ingreso), se muestra un mensaje indicando que debe ajustar sus finanzas."
      ],
      "metadata": {
        "id": "jZrbiMwXOdVE"
      }
    },
    {
      "cell_type": "code",
      "source": [
        "#Aprendiendo a usar el while\n",
        "i = 0\n",
        "while i < 5:\n",
        "  print(i)\n",
        "  i += 1"
      ],
      "metadata": {
        "colab": {
          "base_uri": "https://localhost:8080/"
        },
        "id": "ZBB1GOGrRH8h",
        "outputId": "f0032a65-ddf4-42c0-95d3-7b6bcfb30b96"
      },
      "execution_count": 6,
      "outputs": [
        {
          "output_type": "stream",
          "name": "stdout",
          "text": [
            "0\n",
            "1\n",
            "2\n",
            "3\n",
            "4\n"
          ]
        }
      ]
    },
    {
      "cell_type": "code",
      "source": [
        "input(\"Palabra: \").strip()"
      ],
      "metadata": {
        "colab": {
          "base_uri": "https://localhost:8080/",
          "height": 53
        },
        "id": "3LBwYGeCUqpe",
        "outputId": "8d123d69-e510-44a6-d3e4-a70705305dd4"
      },
      "execution_count": 19,
      "outputs": [
        {
          "name": "stdout",
          "output_type": "stream",
          "text": [
            "Palabra:                   \n"
          ]
        },
        {
          "output_type": "execute_result",
          "data": {
            "text/plain": [
              "''"
            ],
            "application/vnd.google.colaboratory.intrinsic+json": {
              "type": "string"
            }
          },
          "metadata": {},
          "execution_count": 19
        }
      ]
    },
    {
      "cell_type": "code",
      "source": [
        "#Solicitar datos al usuario\n",
        "\n",
        "val = True\n",
        "\n",
        "while val:\n",
        "  try:\n",
        "    nombre = input(\"Por favor, ingrese su nombre: \").strip()\n",
        "    if not nombre:\n",
        "      raise ValueError(\"El nombre no puede estar vacío.\")\n",
        "    edad = int(input(\"Por favor, ingrese su edad: \").strip())\n",
        "    if edad <= 0:\n",
        "      raise ValueError(\"La edad debe ser un número positivo.\")\n",
        "    ingreso = float(input(\"Por favor, ingrese su ingreso mensual: \").strip())\n",
        "    if ingreso <= 0:\n",
        "      raise ValueError(\"El ingreso debe ser un número positivo.\" )\n",
        "    gasto = float(input(\"Por favor, ingrese su gasto mensual: \").strip())\n",
        "    if gasto <= 0:\n",
        "      raise ValueError(\"El gasto debe ser un número positivo.\" )\n",
        "    if gasto > ingreso:\n",
        "      raise ValueError(\"No es posible ahorrar dinero.\")\n",
        "    objetivo = float(input(\"Por favor, ingrese su objetivo de ahorro: \").strip())\n",
        "    if objetivo <= 0:\n",
        "      raise ValueError(\"El objetivo de ahorro debe ser un número positivo.\")\n",
        "\n",
        "    ahorro_mensual = ingreso - gasto\n",
        "    tiempo_ahorro = objetivo / ahorro_mensual\n",
        "\n",
        "    print(\"\\n--- RESULTADOS ---\")\n",
        "    print(f\"Nombre: {nombre}\")\n",
        "    print(f\"Edad: {edad} años\")\n",
        "    print(f\"Ingreso mensual: ${ingreso:.2f}\")\n",
        "    print(f\"Gasto mensual: ${gasto:.2f}\")\n",
        "    print(f\"Ahorro mensual posible: ${ahorro_mensual:.2f}\")\n",
        "    print(f\"Objetivo de ahorro: ${objetivo:.2f}\")\n",
        "    print(f\"Tiempo necesario para alcanzar tu objetivo: {objetivo / ahorro_mensual:.1f} meses (~{(objetivo / ahorro_mensual)/ 12 :.1f} años).\")\n",
        "\n",
        "\n",
        "    val = False\n",
        "\n",
        "  except ValueError as e:\n",
        "    print(f\"Error: {e}\")"
      ],
      "metadata": {
        "colab": {
          "base_uri": "https://localhost:8080/"
        },
        "id": "_ZLJaHpYPOxJ",
        "outputId": "343125a4-29d5-480a-e392-b6371a8ffcb0"
      },
      "execution_count": 26,
      "outputs": [
        {
          "output_type": "stream",
          "name": "stdout",
          "text": [
            "Por favor, ingrese su nombre: María\n",
            "Por favor, ingrese su edad: 33\n",
            "Por favor, ingrese su ingreso mensual: 45\n",
            "Por favor, ingrese su gasto mensual: 34\n",
            "Por favor, ingrese su objetivo de ahorro: 345\n",
            "\n",
            "--- RESULTADOS ---\n",
            "Nombre: María\n",
            "Edad: 33 años\n",
            "Ingreso mensual: $45.00\n",
            "Gasto mensual: $34.00\n",
            "Ahorro mensual posible: $11.00\n",
            "Objetivo de ahorro: $345.00\n",
            "Tiempo necesario para alcanzar tu objetivo: 31.4 meses (~2.6 años).\n"
          ]
        }
      ]
    },
    {
      "cell_type": "code",
      "source": [
        "objetivo"
      ],
      "metadata": {
        "colab": {
          "base_uri": "https://localhost:8080/"
        },
        "id": "Oh04oz3sS9_X",
        "outputId": "c405d86e-83e8-4ea1-9f64-2802e294a4ee"
      },
      "execution_count": 14,
      "outputs": [
        {
          "output_type": "execute_result",
          "data": {
            "text/plain": [
              "345.0"
            ]
          },
          "metadata": {},
          "execution_count": 14
        }
      ]
    }
  ]
}